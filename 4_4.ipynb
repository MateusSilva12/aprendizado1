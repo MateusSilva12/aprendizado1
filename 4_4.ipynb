{
  "nbformat": 4,
  "nbformat_minor": 0,
  "metadata": {
    "colab": {
      "provenance": [],
      "mount_file_id": "1u0bJ_MV-s6aTjz3k_QbscxrvnnaaRFA-",
      "authorship_tag": "ABX9TyNL139sPH0g5YnxZzQvQ1IQ",
      "include_colab_link": true
    },
    "kernelspec": {
      "name": "python3",
      "display_name": "Python 3"
    },
    "language_info": {
      "name": "python"
    }
  },
  "cells": [
    {
      "cell_type": "markdown",
      "metadata": {
        "id": "view-in-github",
        "colab_type": "text"
      },
      "source": [
        "<a href=\"https://colab.research.google.com/github/MateusSilva12/aprendizado1/blob/main/4_4.ipynb\" target=\"_parent\"><img src=\"https://colab.research.google.com/assets/colab-badge.svg\" alt=\"Open In Colab\"/></a>"
      ]
    },
    {
      "cell_type": "code",
      "execution_count": null,
      "metadata": {
        "id": "pdMVmPY21XSj"
      },
      "outputs": [],
      "source": [
        "import random as rndm\n",
        "import time"
      ]
    },
    {
      "cell_type": "code",
      "source": [
        "def make_gene(initial=None):\n",
        "    if initial is None:\n",
        "        initial = [0] * 16\n",
        "    mapp = {}\n",
        "    gene = list(range(1, 17))\n",
        "    rndm.shuffle(gene)\n",
        "    for i in range(16):\n",
        "        mapp[gene[i]] = i\n",
        "    for i in range(16):\n",
        "        if initial[i] != 0 and gene[i] != initial[i]:\n",
        "            temp = gene[i], gene[mapp[initial[i]]]\n",
        "            gene[mapp[initial[i]]], gene[i] = temp\n",
        "            mapp[initial[i]], mapp[temp[0]] = i, mapp[initial[i]]\n",
        "    return gene"
      ],
      "metadata": {
        "id": "9TYHKhoU1cVE"
      },
      "execution_count": null,
      "outputs": []
    },
    {
      "cell_type": "code",
      "source": [
        "def make_chromosome(initial=None):\n",
        "    if initial is None:\n",
        "        initial = [[0] * 16] * 16\n",
        "    chromosome = []\n",
        "    for i in range(16):\n",
        "        chromosome.append(make_gene(initial[i]))\n",
        "    return chromosome"
      ],
      "metadata": {
        "id": "dJ7b4eZT1d9A"
      },
      "execution_count": null,
      "outputs": []
    },
    {
      "cell_type": "code",
      "source": [
        "def make_population(count, initial=None):\n",
        "    if initial is None:\n",
        "        initial = [[0] * 16] * 16\n",
        "    population = []\n",
        "    for _ in range(count):\n",
        "        population.append(make_chromosome(initial))\n",
        "    return population"
      ],
      "metadata": {
        "id": "1zMnB-211ft5"
      },
      "execution_count": null,
      "outputs": []
    },
    {
      "cell_type": "code",
      "source": [
        "def get_fitness(chromosome):\n",
        "    \"\"\"Calculate the fitness of a chromosome (puzzle).\"\"\"\n",
        "    fitness = 0\n",
        "    for i in range(16): # For each column\n",
        "        seen = {}\n",
        "        for j in range(16): # Check each cell in the column\n",
        "            if chromosome[j][i] in seen:\n",
        "                seen[chromosome[j][i]] += 1\n",
        "            else:\n",
        "                seen[chromosome[j][i]] = 1\n",
        "        for key in seen: # Subtract fitness for repeated numbers\n",
        "            fitness -= (seen[key] - 1)\n",
        "    for m in range(4): # For each 3x3 square\n",
        "        for n in range(4):\n",
        "            seen = {}\n",
        "            for i in range(4 * n,4 * (n + 1)):  # Check cells in 3x3 square\n",
        "                for j in range(4 * m, 4 * (m + 1)):\n",
        "                    if chromosome[j][i] in seen:\n",
        "                        seen[chromosome[j][i]] += 1\n",
        "                    else:\n",
        "                        seen[chromosome[j][i]] = 1\n",
        "            for key in seen: # Subtract fitness for repeated numbers\n",
        "                fitness -= (seen[key] - 1)\n",
        "    return fitness"
      ],
      "metadata": {
        "id": "uHSvLfBM1hwI"
      },
      "execution_count": null,
      "outputs": []
    },
    {
      "cell_type": "code",
      "source": [
        "ch = make_chromosome()\n",
        "print(get_fitness(ch))\n",
        "\n",
        "\n",
        "def pch(ch):\n",
        "    for i in range(16):\n",
        "        for j in range(16):\n",
        "            print(ch[i][j], end=\" \")\n",
        "        print(\"\")"
      ],
      "metadata": {
        "colab": {
          "base_uri": "https://localhost:8080/"
        },
        "id": "eF3YRsgF1j-B",
        "outputId": "fa99820a-ec6d-4144-c8a0-ce2d2d1b14cc"
      },
      "execution_count": null,
      "outputs": [
        {
          "output_type": "stream",
          "name": "stdout",
          "text": [
            "-159\n"
          ]
        }
      ]
    },
    {
      "cell_type": "code",
      "source": [
        "def crossover(ch1, ch2):\n",
        "    new_child_1 = []\n",
        "    new_child_2 = []\n",
        "    for i in range(16):\n",
        "        x = rndm.randint(0, 1)\n",
        "        if x == 1:\n",
        "            new_child_1.append(ch1[i])\n",
        "            new_child_2.append(ch2[i])\n",
        "        elif x == 0:\n",
        "            new_child_2.append(ch1[i])\n",
        "            new_child_1.append(ch2[i])\n",
        "    return new_child_1, new_child_2\n"
      ],
      "metadata": {
        "id": "99Zuw4uf1mg4"
      },
      "execution_count": null,
      "outputs": []
    },
    {
      "cell_type": "code",
      "source": [
        "def mutation(ch, pm, initial):\n",
        "    for i in range(16):\n",
        "        x = rndm.randint(0, 100)\n",
        "        if x < pm * 100:\n",
        "            ch[i] = make_gene(initial[i])\n",
        "    return ch"
      ],
      "metadata": {
        "id": "NsNjXIrz1ong"
      },
      "execution_count": null,
      "outputs": []
    },
    {
      "cell_type": "code",
      "source": [
        "\n",
        "def read_puzzle(address):\n",
        "    puzzle = []\n",
        "    f = open(address, 'r')\n",
        "    for row in f:\n",
        "        temp = row.split()\n",
        "        puzzle.append([int(c) for c in temp])\n",
        "    return puzzle"
      ],
      "metadata": {
        "id": "G0_LbkM41q-B"
      },
      "execution_count": null,
      "outputs": []
    },
    {
      "cell_type": "code",
      "source": [
        "def r_get_mating_pool(population):\n",
        "    fitness_list = []\n",
        "    pool = []\n",
        "    for chromosome in population:\n",
        "        fitness = get_fitness(chromosome)\n",
        "        fitness_list.append((fitness, chromosome))\n",
        "    fitness_list.sort()\n",
        "    weight = list(range(1, len(fitness_list) + 1))\n",
        "    for _ in range(len(population)):\n",
        "        ch = rndm.choices(fitness_list, weight)[0]\n",
        "        pool.append(ch[1])\n",
        "    return pool"
      ],
      "metadata": {
        "id": "dO3_gKoj1ux4"
      },
      "execution_count": null,
      "outputs": []
    },
    {
      "cell_type": "code",
      "source": [
        "def w_get_mating_pool(population):\n",
        "    fitness_list = []\n",
        "    pool = []\n",
        "    for chromosome in population:\n",
        "        fitness = get_fitness(chromosome)\n",
        "        fitness_list.append((fitness, chromosome))\n",
        "    weight = [fit[0] - fitness_list[0][0] for fit in fitness_list]\n",
        "    for _ in range(len(population)):\n",
        "        ch = rndm.choices(fitness_list, weights=weight)[0]\n",
        "        pool.append(ch[1])\n",
        "    return pool"
      ],
      "metadata": {
        "id": "ZcAAEca31wVp"
      },
      "execution_count": null,
      "outputs": []
    },
    {
      "cell_type": "code",
      "source": [
        "def get_offsprings(population, initial, pm, pc):\n",
        "    new_pool = []\n",
        "    i = 0\n",
        "    while i < len(population):\n",
        "        ch1 = population[i]\n",
        "        ch2 = population[(i + 1) % len(population)]\n",
        "        x = rndm.randint(0, 100)\n",
        "        if x < pc * 100:\n",
        "            ch1, ch2 = crossover(ch1, ch2)\n",
        "        new_pool.append(mutation(ch1, pm, initial))\n",
        "        new_pool.append(mutation(ch2, pm, initial))\n",
        "        i += 2\n",
        "    return new_pool"
      ],
      "metadata": {
        "id": "u7e1Uk4-1x8i"
      },
      "execution_count": null,
      "outputs": []
    },
    {
      "cell_type": "code",
      "source": [
        "# Population size\n",
        "POPULATION = 1000\n",
        "\n",
        "# Number of generations\n",
        "REPETITION = 1000\n",
        "\n",
        "# Probability of mutation\n",
        "PM = 0.1\n",
        "\n",
        "# Probability of crossover\n",
        "PC = 0.95\n",
        "\n",
        "# Main genetic algorithm function\n",
        "def genetic_algorithm(initial_file):\n",
        "    initial = read_puzzle(initial_file)\n",
        "    population = make_population(POPULATION, initial)\n",
        "    for _ in range(REPETITION):\n",
        "        mating_pool = r_get_mating_pool(population)\n",
        "        rndm.shuffle(mating_pool)\n",
        "        population = get_offsprings(mating_pool, initial, PM, PC)\n",
        "        fit = [get_fitness(c) for c in population]\n",
        "        m = max(fit)\n",
        "        if m == 0:\n",
        "            return population\n",
        "    return population"
      ],
      "metadata": {
        "id": "tmBy5Lll1zvA"
      },
      "execution_count": null,
      "outputs": []
    },
    {
      "cell_type": "code",
      "source": [
        "tic = time.time()\n",
        "r = genetic_algorithm(\"/content/4x4-01 (1).txt\")\n",
        "\n",
        "toc = time.time()\n",
        "print(\"time_taken: \", toc - tic)\n",
        "fit = [get_fitness(c) for c in r]\n",
        "m = max(fit)\n",
        "print(max(fit))\n",
        "\n",
        "# Print the chromosome with the highest fitness\n",
        "for c in r:\n",
        "    if get_fitness(c) == m:\n",
        "        pch(c)\n",
        "        break"
      ],
      "metadata": {
        "colab": {
          "base_uri": "https://localhost:8080/"
        },
        "id": "7Mnyo_Ht12QI",
        "outputId": "1093f185-58de-4a96-ac80-05ab83ecd67c"
      },
      "execution_count": null,
      "outputs": [
        {
          "output_type": "stream",
          "name": "stdout",
          "text": [
            "time_taken:  477.1574845314026\n",
            "-65\n",
            "5 9 14 3 10 2 6 13 15 11 8 4 16 12 7 1 \n",
            "2 4 6 12 14 9 1 7 10 5 16 13 11 3 15 8 \n",
            "2 8 6 15 5 11 16 3 7 12 9 10 1 4 14 13 \n",
            "16 11 2 7 12 8 15 4 3 5 1 14 9 6 13 10 \n",
            "9 8 13 7 15 14 11 2 12 5 3 6 1 4 10 16 \n",
            "10 5 12 4 16 1 13 3 6 15 14 11 7 8 2 9 \n",
            "14 15 3 16 2 10 7 8 13 1 5 4 12 9 6 11 \n",
            "6 10 9 11 3 15 12 1 16 8 2 7 4 5 13 14 \n",
            "12 16 11 14 8 7 3 2 4 9 15 6 13 10 1 5 \n",
            "7 1 6 2 5 12 4 10 8 16 13 3 14 11 9 15 \n",
            "9 6 8 13 1 15 2 11 14 7 10 5 4 12 16 3 \n",
            "4 3 5 15 13 16 9 14 11 2 1 12 6 7 8 10 \n",
            "11 14 10 9 7 6 8 15 1 5 4 2 3 13 16 12 \n",
            "6 2 7 4 12 13 10 16 3 15 11 9 5 14 1 8 \n",
            "3 1 16 6 11 5 14 12 10 13 7 8 15 9 2 4 \n",
            "8 13 12 5 1 3 4 2 9 14 16 6 10 15 11 7 \n"
          ]
        }
      ]
    },
    {
      "cell_type": "code",
      "source": [],
      "metadata": {
        "id": "xZiRDXGK12RK"
      },
      "execution_count": null,
      "outputs": []
    }
  ]
}